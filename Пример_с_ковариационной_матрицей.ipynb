{
  "cells": [
    {
      "cell_type": "markdown",
      "metadata": {
        "id": "view-in-github",
        "colab_type": "text"
      },
      "source": [
        "<a href=\"https://colab.research.google.com/github/River-Dance/Linear-Algebra/blob/main/%D0%9F%D1%80%D0%B8%D0%BC%D0%B5%D1%80_%D1%81_%D0%BA%D0%BE%D0%B2%D0%B0%D1%80%D0%B8%D0%B0%D1%86%D0%B8%D0%BE%D0%BD%D0%BD%D0%BE%D0%B9_%D0%BC%D0%B0%D1%82%D1%80%D0%B8%D1%86%D0%B5%D0%B9.ipynb\" target=\"_parent\"><img src=\"https://colab.research.google.com/assets/colab-badge.svg\" alt=\"Open In Colab\"/></a>"
      ]
    },
    {
      "cell_type": "code",
      "execution_count": null,
      "metadata": {
        "colab": {
          "base_uri": "https://localhost:8080/"
        },
        "id": "TMU-vG5tL_53",
        "outputId": "3923dda4-508f-49ce-cb2d-a688a62407be"
      },
      "outputs": [
        {
          "name": "stdout",
          "output_type": "stream",
          "text": [
            "Матрица A:\n",
            "[[ 19.18  -0.79]\n",
            " [ 28.99   4.85]\n",
            " [-13.3   -3.08]\n",
            " [ -8.79   1.67]\n",
            " [ 16.11   1.95]\n",
            " [-19.13  -3.12]\n",
            " [ -2.75   0.18]\n",
            " [ -0.17  -2.85]\n",
            " [-21.63  -2.05]\n",
            " [  0.78  -0.55]\n",
            " [-10.65   1.35]\n",
            " [-22.93  -0.89]\n",
            " [-18.77  -3.96]\n",
            " [-21.35   0.62]\n",
            " [-21.06  -0.74]\n",
            " [ 17.04  -0.15]\n",
            " [  5.53   3.28]\n",
            " [-10.92  -4.08]\n",
            " [ 18.47   1.24]\n",
            " [ -5.95   0.34]\n",
            " [  2.8   -1.84]\n",
            " [ -0.53   2.7 ]\n",
            " [ -0.     2.31]\n",
            " [  4.64  -2.17]\n",
            " [-13.53  -0.57]\n",
            " [  6.3    2.12]\n",
            " [ 13.51   1.98]\n",
            " [ 12.97   1.67]\n",
            " [-21.4   -2.05]\n",
            " [-12.91  -1.49]]\n"
          ]
        }
      ],
      "source": [
        "import matplotlib.pyplot as plt\n",
        "import numpy as np\n",
        "np.set_printoptions(precision=2, suppress=True)\n",
        "\n",
        "\n",
        "x = np.random.uniform(-30, 30, 30)\n",
        "#y = np.random.uniform(-30, 30, 30)\n",
        "y = 0.1 * x + 0.1 * q \n",
        "\n",
        "\n",
        "A = np.array([x]+[y]).T\n",
        "\n",
        "print(f'Матрица A:\\n{A}')"
      ]
    },
    {
      "cell_type": "code",
      "execution_count": null,
      "metadata": {
        "colab": {
          "base_uri": "https://localhost:8080/"
        },
        "id": "0_t_s9bGL_6O",
        "outputId": "4bb068d6-916c-4978-f77a-610f3daa0c74"
      },
      "outputs": [
        {
          "name": "stdout",
          "output_type": "stream",
          "text": [
            "Матрица A_:\n",
            "[[6499.78  566.36]\n",
            " [ 566.36  149.6 ]]\n",
            "Собственные значения:\n",
            "[6549.9    99.48]\n",
            "Собственные векторы:\n",
            "[[ 1.   -0.09]\n",
            " [ 0.09  1.  ]]\n",
            "Собственные значения:\n",
            "[6549.9    99.48]\n",
            "Матрица U:\n",
            "[[-1.   -0.09]\n",
            " [-0.09  1.  ]]\n",
            "Собственные вектор, найденный по первому собственному значению:\n",
            "[-1.   -0.09]\n",
            "Собственные вектор, найденный по второму собственному значению:\n",
            "[-0.09  1.  ]\n",
            "Матрица V:\n",
            "[[-1.   -0.09]\n",
            " [-0.09  1.  ]]\n"
          ]
        }
      ],
      "source": [
        "cov_A = A.T @ A\n",
        "w, v = np.linalg.eig(cov_A)\n",
        "\n",
        "print(f'Матрица A_:\\n{cov_A}')\n",
        "print(f'Собственные значения:\\n{w}')\n",
        "print(f'Собственные векторы:\\n{v}')\n",
        "\n",
        "U, s, V = np.linalg.svd(cov_A)\n",
        "D = np.eye(2) * s\n",
        "print(f'Собственные значения:\\n{s}')\n",
        "print(f'Матрица U:\\n{U}')\n",
        "print(f'Собственные вектор, найденный по первому собственному значению:\\n{U[0]}')\n",
        "print(f'Собственные вектор, найденный по второму собственному значению:\\n{U[1]}')\n",
        "print(f'Матрица V:\\n{V}')"
      ]
    },
    {
      "cell_type": "code",
      "execution_count": null,
      "metadata": {
        "colab": {
          "base_uri": "https://localhost:8080/",
          "height": 497
        },
        "id": "4LxOvSiwL_6Q",
        "outputId": "20f2a495-0f58-4f9c-b17e-a71d1881025a"
      },
      "outputs": [
        {
          "data": {
            "image/png": "[encoded data removed]",
            "text/plain": [
              "<Figure size 576x576 with 1 Axes>"
            ]
          },
          "metadata": {
            "needs_background": "light"
          },
          "output_type": "display_data"
        }
      ],
      "source": [
        "import matplotlib.pyplot as plt\n",
        "\n",
        "plt.figure(figsize=(8,8))\n",
        "plt.xlim([-33, 33])\n",
        "plt.ylim([-33, 33])\n",
        "plt.yticks(np.arange(-30, 31, 3))\n",
        "plt.xticks(np.arange(-30, 31, 3))\n",
        "plt.gca().set_aspect('equal', adjustable='box')\n",
        "\n",
        "\n",
        "plt.scatter(A.T[0], A.T[1], c='black')\n",
        "\n",
        "\n",
        "origin = [0], [0] # origin point\n",
        "plt.quiver([0],[0], U[:1][0][0], U[:1][0][1], color=['g'], scale=3)\n",
        "plt.quiver([0],[0], U[1:2][0][0], U[1:2][0][1], color=['r'], scale=3)\n",
        "plt.xlabel(\"x\")\n",
        "plt.ylabel(\"y\")\n",
        "\n",
        "plt.show()"
      ]
    },
    {
      "cell_type": "code",
      "execution_count": null,
      "metadata": {
        "id": "KcuBHTpASvsw"
      },
      "outputs": [],
      "source": [
        ""
      ]
    },
    {
      "cell_type": "code",
      "execution_count": null,
      "metadata": {
        "id": "IV18FcS8Svsx"
      },
      "outputs": [],
      "source": [
        ""
      ]
    }
  ],
  "metadata": {
    "colab": {
      "collapsed_sections": [],
      "name": "Пример с ковариационной матрицей.ipynb",
      "provenance": [],
      "include_colab_link": true
    },
    "kernelspec": {
      "display_name": "Python 3 (ipykernel)",
      "language": "python",
      "name": "python3"
    },
    "language_info": {
      "codemirror_mode": {
        "name": "ipython",
        "version": 3
      },
      "file_extension": ".py",
      "mimetype": "text/x-python",
      "name": "python",
      "nbconvert_exporter": "python",
      "pygments_lexer": "ipython3",
      "version": "3.8.13"
    }
  },
  "nbformat": 4,
  "nbformat_minor": 0
}