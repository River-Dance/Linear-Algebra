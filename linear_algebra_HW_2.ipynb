{
  "nbformat": 4,
  "nbformat_minor": 0,
  "metadata": {
    "colab": {
      "name": "linear_algebra_HW_2.ipynb",
      "provenance": [],
      "toc_visible": true,
      "collapsed_sections": [],
      "authorship_tag": "ABX9TyPneysgVlZpTKFJnYiiS0D6",
      "include_colab_link": true
    },
    "kernelspec": {
      "name": "python3",
      "display_name": "Python 3"
    },
    "language_info": {
      "name": "python"
    }
  },
  "cells": [
    {
      "cell_type": "markdown",
      "metadata": {
        "id": "view-in-github",
        "colab_type": "text"
      },
      "source": [
        "<a href=\"https://colab.research.google.com/github/River-Dance/Linear-Algebra/blob/main/linear_algebra_HW_2.ipynb\" target=\"_parent\"><img src=\"https://colab.research.google.com/assets/colab-badge.svg\" alt=\"Open In Colab\"/></a>"
      ]
    },
    {
      "cell_type": "markdown",
      "source": [
        "# Урок 2. Линейная алгебра"
      ],
      "metadata": {
        "id": "daLrz9HJ24D8"
      }
    },
    {
      "cell_type": "code",
      "source": [
        "import numpy as np"
      ],
      "metadata": {
        "id": "YGAh0xFk5daB"
      },
      "execution_count": 1,
      "outputs": []
    },
    {
      "cell_type": "markdown",
      "source": [
        "## Часть 1. Практическое задание\n",
        "\n"
      ],
      "metadata": {
        "id": "HIwYpWsh26n3"
      }
    },
    {
      "cell_type": "markdown",
      "source": [
        "### __1.__ Установить, какие произведения матриц $AB$ и $BA$ определены, и найти размерности полученных матриц:\n",
        "\n",
        "   а) $A$ — матрица $4\\times 2$, $B$ — матрица $4\\times 2$;\n",
        "    \n",
        "   б) $A$ — матрица $2\\times 5$, $B$ — матрица $5\\times 3$;\n",
        "    \n",
        "   в) $A$ — матрица $8\\times 3$, $B$ — матрица $3\\times 8$;\n",
        "    \n",
        "   г) $A$ — квадратная матрица $4\\times 4$, $B$ — квадратная матрица $4\\times 4$."
      ],
      "metadata": {
        "id": "5O3z5woG3SV_"
      }
    },
    {
      "cell_type": "markdown",
      "source": [
        "####Решение:\n",
        "\n",
        "   а) $A\\cdot B$ — не определено, $B\\cdot A$ — не определено;\n",
        "    \n",
        "   б) $A\\cdot B=2\\times 5$ и  $5\\times 3$, размер матрицы $2\\times 3$\n",
        "\n",
        "  $B\\cdot A=5\\times 3$ и  $2\\times 5$, - не определено\n",
        "    \n",
        "   в) $A\\cdot B$ = $8\\times 3$ и $3\\times 8$, размер матрицы $8\\times 8$\n",
        "\n",
        "   $B\\cdot A$ = $3\\times 8$ и $8\\times 3$, размер матрицы $3\\times 3$\n",
        "    \n",
        "   г) $A\\cdot B$ = $4\\times 4$ и $4\\times 4$, размер матрицы $4\\times 4$\n",
        "\n",
        "   $B\\cdot A$ = $4\\times 4$ и $4\\times 4$, размер матрицы $4\\times 4$\n"
      ],
      "metadata": {
        "id": "chHUOlMX3ajv"
      }
    },
    {
      "cell_type": "markdown",
      "source": [
        "###__2.__ Найти сумму и произведение матриц \n",
        "$A=\\begin{pmatrix}\n",
        "1 & -2\\\\ \n",
        "3 & 0\n",
        "\\end{pmatrix}$ и $B=\\begin{pmatrix}\n",
        "4 & -1\\\\ \n",
        "0 & 5\n",
        "\\end{pmatrix}.$"
      ],
      "metadata": {
        "id": "r0KSjgCR5mT-"
      }
    },
    {
      "cell_type": "markdown",
      "source": [
        "#### Решение;\n",
        "\n",
        "$A + B = \\begin{pmatrix}\n",
        "1 + 4 & -2 -1\\\\ \n",
        "3 + 0 & 0 + 5\n",
        "\\end{pmatrix} = \\begin{pmatrix}\n",
        "5 & -3\\\\ \n",
        "3 & 5\n",
        "\\end{pmatrix}$\n",
        "\n",
        "$A \\cdot B = \n",
        "\\begin{pmatrix}\n",
        "1 \\cdot 4 -2 \\cdot 0 & -1 \\cdot 1 -2 \\cdot 5\\\\ \n",
        "3 \\cdot 4 - 0 \\cdot 0 & -1 \\cdot 3 + 0 \\cdot 5\n",
        "\\end{pmatrix} = \n",
        "\\begin{pmatrix}\n",
        "4 & -11 \\\\ \n",
        "12 & -3\n",
        "\\end{pmatrix}$"
      ],
      "metadata": {
        "id": "I9wcccfz6BJF"
      }
    },
    {
      "cell_type": "code",
      "execution_count": 2,
      "metadata": {
        "id": "8c8p-iED2wDe",
        "colab": {
          "base_uri": "https://localhost:8080/"
        },
        "outputId": "57cbb841-9892-4863-afa4-c215223f47e5"
      },
      "outputs": [
        {
          "output_type": "stream",
          "name": "stdout",
          "text": [
            "A + B =\n",
            " [[ 5 -3]\n",
            " [ 3  5]]\n",
            "A * B =\n",
            " [[  4 -11]\n",
            " [ 12  -3]]\n"
          ]
        }
      ],
      "source": [
        "A = np.array([[1, -2], [3, 0]])\n",
        "B = np.array([[4, -1], [0, 5]])\n",
        "\n",
        "print(f'A + B =\\n {A+B}')\n",
        "print(f'A * B =\\n {np.dot(A, B)}')"
      ]
    },
    {
      "cell_type": "markdown",
      "source": [
        "###__3.__ Из закономерностей сложения и умножения матриц на число можно сделать вывод, что матрицы одного размера образуют линейное пространство. \n",
        "Вычислить линейную комбинацию $3A-2B+4C$ для матриц $A=\\begin{pmatrix}\n",
        "1 & 7\\\\ \n",
        "3 & -6\n",
        "\\end{pmatrix}$, $B=\\begin{pmatrix}\n",
        "0 & 5\\\\ \n",
        "2 & -1\n",
        "\\end{pmatrix}$, $C=\\begin{pmatrix}\n",
        "2 & -4\\\\ \n",
        "1 & 1\n",
        "\\end{pmatrix}.$"
      ],
      "metadata": {
        "id": "ZMaYKrQf6ujn"
      }
    },
    {
      "cell_type": "markdown",
      "source": [
        "#### Решение;\n",
        "\n",
        "$3A - 2B + 4C = \n",
        "3 \\cdot \\begin{pmatrix}\n",
        "1 & 7 \\\\ \n",
        "3 & -6\n",
        "\\end{pmatrix}\n",
        "- 2 \\cdot \\begin{pmatrix}\n",
        "0 & 5 \\\\ \n",
        "2 & -1\n",
        "\\end{pmatrix}\n",
        "+4 \\cdot \\begin{pmatrix}\n",
        "2 & -4 \\\\ \n",
        "1 & 1\n",
        "\\end{pmatrix} = \n",
        "\\begin{pmatrix}\n",
        "3 - 0 + 8 & 21 - 10 - 16\\\\ \n",
        "9 - 4 + 4 & -18 + 2 + 4\n",
        "\\end{pmatrix} = \n",
        "\\begin{pmatrix}\n",
        "11 & -5 \\\\ \n",
        "9 & -12\n",
        "\\end{pmatrix}$"
      ],
      "metadata": {
        "id": "bjOhx1D77Gnl"
      }
    },
    {
      "cell_type": "code",
      "source": [
        "A = np.array([[1,7],[3,-6]])\n",
        "B = np.array([[0,5], [2,-1]])\n",
        "C = np.array([[2,-4], [1,1]])\n",
        "print(f'3*A - 2*B + 4*C = \\n{3*A - 2*B + 4*C}')"
      ],
      "metadata": {
        "colab": {
          "base_uri": "https://localhost:8080/"
        },
        "id": "B0pLiJUV7gyW",
        "outputId": "697e8d23-c8d9-494f-bc90-7e252e37a600"
      },
      "execution_count": 3,
      "outputs": [
        {
          "output_type": "stream",
          "name": "stdout",
          "text": [
            "3*A - 2*B + 4*C = \n",
            "[[ 11  -5]\n",
            " [  9 -12]]\n"
          ]
        }
      ]
    },
    {
      "cell_type": "markdown",
      "source": [
        "###__4.__ Дана матрица \n",
        "$A=\\begin{pmatrix}\n",
        "4 & 1\\\\ \n",
        "5 & -2\\\\ \n",
        "2 & 3\n",
        "\\end{pmatrix}$.\n",
        "Вычислить $AA^{T}$ и $A^{T}A$."
      ],
      "metadata": {
        "id": "BFlC2R_-7qBA"
      }
    },
    {
      "cell_type": "markdown",
      "source": [
        "####Решение;\n",
        "\n",
        "$A^{T}=\\begin{pmatrix}\n",
        "4 & 5 & 2 \\\\\n",
        "1 & -2 & 3\n",
        "\\end{pmatrix}$\n",
        "\n",
        "$A \\cdot A^{T} =\n",
        "\\begin{pmatrix}\n",
        "4 & 1\\\\ \n",
        "5 & -2\\\\ \n",
        "2 & 3\n",
        "\\end{pmatrix} \\cdot \n",
        "\\begin{pmatrix}\n",
        "4 & 5 & 2\\\\ \n",
        "1 & -2 & 3\n",
        "\\end{pmatrix} = \n",
        "\\begin{pmatrix}\n",
        "16+1 & 20-2 & 8+3\\\\ \n",
        "20-2 & 25+4 & 10-6\\\\ \n",
        "8+3 & 10-6 & 4+9\n",
        "\\end{pmatrix} = \n",
        "\\begin{pmatrix}\n",
        "17 & 18 & 11\\\\ \n",
        "18 & 29 & 4\\\\ \n",
        "11 & 4 & 13\n",
        "\\end{pmatrix}$\n",
        "\n",
        "$A^{T} \\cdot A = \n",
        "\\begin{pmatrix}\n",
        "4 & 5 & 2\\\\ \n",
        "1 & -2 & 3\n",
        "\\end{pmatrix} \\cdot \n",
        "\\begin{pmatrix}\n",
        "4 & 1\\\\ \n",
        "5 & -2\\\\ \n",
        "2 & 3\n",
        "\\end{pmatrix}\n",
        "\\begin{pmatrix}\n",
        "16 + 25 + 4 & 4 - 10 + 6 \\\\\n",
        "4 - 10 + 6 & 1 + 4 + 9\n",
        "\\end {pmatrix}$\n"
      ],
      "metadata": {
        "id": "p2CD6v2A71O8"
      }
    },
    {
      "cell_type": "code",
      "source": [
        "A = np.array([[4,1], [5,-2], [2,3]])\n",
        "print(f'A*A.T = \\n{np.dot(A, A.T)}')\n",
        "print(f'A.T*A = \\n{np.dot(A.T, A)}')"
      ],
      "metadata": {
        "colab": {
          "base_uri": "https://localhost:8080/"
        },
        "id": "CvGGlXpq8Lpf",
        "outputId": "8a217a44-5880-45a9-86ff-e02377380318"
      },
      "execution_count": 4,
      "outputs": [
        {
          "output_type": "stream",
          "name": "stdout",
          "text": [
            "A*A.T = \n",
            "[[17 18 11]\n",
            " [18 29  4]\n",
            " [11  4 13]]\n",
            "A.T*A = \n",
            "[[45  0]\n",
            " [ 0 14]]\n"
          ]
        }
      ]
    },
    {
      "cell_type": "markdown",
      "source": [
        "###__5*.__ Написать на Python функцию для перемножения двух произвольных матриц, не используя NumPy."
      ],
      "metadata": {
        "id": "X1X9GHpC8Rl5"
      }
    },
    {
      "cell_type": "code",
      "source": [
        "def composition_matrix(matrix1, matrix2):\n",
        "    if len(matrix1[0]) != len(matrix2):\n",
        "        return ValueError('произведение не определено')\n",
        "    result = [ [0 for j in range(len(matrix2[0]))] for i in range(len(matrix1))]\n",
        "    for i in range(len(matrix1)):\n",
        "        for j in range(len(matrix2[0])):\n",
        "            for k in range(len(matrix2)):\n",
        "                result[i][j] += matrix1[i][k] * matrix2[k][j]\n",
        "    return result"
      ],
      "metadata": {
        "id": "jPtOK7Ia9sHu"
      },
      "execution_count": 5,
      "outputs": []
    },
    {
      "cell_type": "markdown",
      "source": [
        "Попробуем."
      ],
      "metadata": {
        "id": "1HAdCKbg-UAK"
      }
    },
    {
      "cell_type": "code",
      "source": [
        "x = np.array([[5,-5], [2,0], [4,8]])\n",
        "y = np.array([[5,6], [-1,4]])\n",
        "print(f'Матрица Х:\\n {x}')\n",
        "print(f'Матрица Y:\\n {y}')\n",
        "print(f'Результат метода NumPy:\\n {np.dot(x,y)}')\n",
        "print(f'Результат метода composition_matrix: \\n {composition_matrix(x,y)}')"
      ],
      "metadata": {
        "colab": {
          "base_uri": "https://localhost:8080/"
        },
        "id": "sUolqA5C-YuC",
        "outputId": "2e3bb6bd-db6e-4168-aaea-eddec437d418"
      },
      "execution_count": 7,
      "outputs": [
        {
          "output_type": "stream",
          "name": "stdout",
          "text": [
            "Матрица Х:\n",
            " [[ 5 -5]\n",
            " [ 2  0]\n",
            " [ 4  8]]\n",
            "Матрица Y:\n",
            " [[ 5  6]\n",
            " [-1  4]]\n",
            "Результат метода NumPy:\n",
            " [[30 10]\n",
            " [10 12]\n",
            " [12 56]]\n",
            "Результат метода composition_matrix: \n",
            " [[30, 10], [10, 12], [12, 56]]\n"
          ]
        }
      ]
    },
    {
      "cell_type": "markdown",
      "source": [
        "##Часть 2. Практическое задание"
      ],
      "metadata": {
        "id": "pQoZixn1__FS"
      }
    },
    {
      "cell_type": "markdown",
      "source": [
        "###__1.__ Вычислить определитель:\n",
        "\n",
        "   a)\n",
        "\n",
        "$$\\begin{vmatrix}\n",
        "sinx & -cosx\\\\ \n",
        "cosx & sinx\n",
        "\\end{vmatrix};$$\n",
        "\n",
        "   б)\n",
        "    \n",
        "$$\\begin{vmatrix}\n",
        "4 & 2 & 3\\\\ \n",
        "0 & 5 & 1\\\\ \n",
        "0 & 0 & 9\n",
        "\\end{vmatrix};$$\n",
        "    \n",
        "   в)\n",
        "\n",
        "$$\\begin{vmatrix}\n",
        "1 & 2 & 3\\\\ \n",
        "4 & 5 & 6\\\\ \n",
        "7 & 8 & 9\n",
        "\\end{vmatrix}.$$"
      ],
      "metadata": {
        "id": "Fodi6yFlAJar"
      }
    },
    {
      "cell_type": "markdown",
      "source": [
        "#### Решение:\n",
        "\n",
        "a) $\\begin{vmatrix}\n",
        "sinx & -cosx\\\\ \n",
        "cosx & sinx\n",
        "\\end{vmatrix} = \\sin^2x + \\cos^2x = 1$\n",
        "\n",
        "б) $\\begin{vmatrix}\n",
        "4 & 2 & 3\\\\ \n",
        "0 & 5 & 1\\\\ \n",
        "0 & 0 & 9\n",
        "\\end{vmatrix} = 4(5\\cdot9 - 1\\cdot0) - 2(0\\cdot9 - 0\\cdot1) + 3(0\\cdot0 - 0\\cdot5) = 180$\n",
        "\n"
      ],
      "metadata": {
        "id": "CzQSHqALAte7"
      }
    },
    {
      "cell_type": "code",
      "source": [
        "a1_2 = np.array([[4,2,3], [0,5,1], [0,0,9]])\n",
        "det1_2 = np.linalg.det(a1_2)\n",
        "det1_2"
      ],
      "metadata": {
        "colab": {
          "base_uri": "https://localhost:8080/"
        },
        "id": "k0EuZzNtCOFE",
        "outputId": "0659f702-0e5a-46cc-8842-326500cc4cd7"
      },
      "execution_count": 8,
      "outputs": [
        {
          "output_type": "execute_result",
          "data": {
            "text/plain": [
              "180.0"
            ]
          },
          "metadata": {},
          "execution_count": 8
        }
      ]
    },
    {
      "cell_type": "markdown",
      "source": [
        "в)  $\\begin{vmatrix}\n",
        "1 & 2 & 3\\\\ \n",
        "4 & 5 & 6\\\\ \n",
        "7 & 8 & 9\n",
        "\\end{vmatrix} = \n",
        "1(5\\cdot9 - 6\\cdot8) -2(4\\cdot9 - 6\\cdot7) + 3(4\\cdot8 - 5\\cdot7) =\n",
        " 45 - 48 - 72 + 84 + 96 - 105 = -3 - 72 + 84 - 9 =0$"
      ],
      "metadata": {
        "id": "5fJGdd2RCYtb"
      }
    },
    {
      "cell_type": "code",
      "source": [
        "a1_3 = np.array([[1,2,3], [4,5,6], [7,8,9]])\n",
        "det1_3 = np.linalg.det(a1_3)\n",
        "det1_3"
      ],
      "metadata": {
        "colab": {
          "base_uri": "https://localhost:8080/"
        },
        "id": "SkwbbltuCabt",
        "outputId": "db29fa48-45a1-4892-aadb-857db7db79cf"
      },
      "execution_count": 9,
      "outputs": [
        {
          "output_type": "execute_result",
          "data": {
            "text/plain": [
              "0.0"
            ]
          },
          "metadata": {},
          "execution_count": 9
        }
      ]
    },
    {
      "cell_type": "markdown",
      "source": [
        "\n",
        "\n",
        "---\n",
        "\n",
        "\n",
        "### __2.__ Определитель матрицы $A$ равен $4$. Найти:\n",
        "\n",
        "\n",
        "\n",
        "\n",
        "   а) $det(A^{2})$;\n",
        "    \n",
        "   б) $det(A^{T})$;\n",
        "    \n",
        "   в) $det(2A)$.\n",
        "   "
      ],
      "metadata": {
        "id": "cyBUi4xKBL5_"
      }
    },
    {
      "cell_type": "markdown",
      "source": [
        "#### Решение:\n",
        "\n",
        "а) $det(A^{2}) = det(A \\cdot A) = det(A)\\cdot det(A) = 16$\n",
        "\n",
        "б) $det(A^{T}) = det(A) =4$\n",
        "\n",
        "в) $det(2A) = 2 \\cdot det(A) = 8$\n",
        "\n",
        "\n",
        "---\n",
        "\n"
      ],
      "metadata": {
        "id": "4y6nNZIHCmaj"
      }
    },
    {
      "cell_type": "markdown",
      "source": [
        "###__3.__  Доказать, что матрица\n",
        "\n",
        "$$\\begin{pmatrix}\n",
        "-2 & 7 & -3\\\\ \n",
        "4 & -14 & 6\\\\ \n",
        "-3 & 7 & 13\n",
        "\\end{pmatrix}$$\n",
        "   \n",
        "вырожденная."
      ],
      "metadata": {
        "id": "8N5mTLF-DcpT"
      }
    },
    {
      "cell_type": "markdown",
      "source": [
        "#### Решение.\n",
        "\n",
        "Определение: \n",
        "\n",
        "Вырожденная матрица — квадратная матрица, определитель которой, равен нулю.\n",
        "\n",
        "Поскольку мы можем представить вторую строку $(4, -14, 6)$ данной матрицы  через первую её строку $(4, -14, 6)$  как $(4, -14, 6)=-2\\cdot (-2, 7, -3)$, т.е. две строки (столбца) матрицы линейно зависимы, а значит её определитель равен 0, т.е.\n",
        "\n",
        "такая матрица, согласно определению, является вырожденной."
      ],
      "metadata": {
        "id": "i0vL9335Dmj3"
      }
    },
    {
      "cell_type": "markdown",
      "source": [
        "Проверка:"
      ],
      "metadata": {
        "id": "48rxINS2GR3h"
      }
    },
    {
      "cell_type": "code",
      "source": [
        "arr=np.array([[-2,7,-3],[4,-14,6],[-3,7,13]])\n",
        "np.linalg.det(arr)"
      ],
      "metadata": {
        "colab": {
          "base_uri": "https://localhost:8080/"
        },
        "id": "AD-qb4rSGVyy",
        "outputId": "c8724ee9-b652-40c7-bf2b-714287bd553c"
      },
      "execution_count": 10,
      "outputs": [
        {
          "output_type": "execute_result",
          "data": {
            "text/plain": [
              "0.0"
            ]
          },
          "metadata": {},
          "execution_count": 10
        }
      ]
    },
    {
      "cell_type": "markdown",
      "source": [
        "\n",
        "\n",
        "---\n",
        "###__4.__ Найти ранг матрицы:\n",
        "\n",
        "   а) $\\begin{pmatrix}\n",
        "1 & 2 & 3\\\\ \n",
        "1 & 1 & 1\\\\ \n",
        "2 & 3 & 4\n",
        "\\end{pmatrix};$\n",
        "\n",
        "   б) $\\begin{pmatrix}\n",
        "0 & 0 & 2 & 1\\\\ \n",
        "0 & 0 & 2 & 2\\\\ \n",
        "0 & 0 & 4 & 3\\\\ \n",
        "2 & 3 & 5 & 6\n",
        "\\end{pmatrix}.$\n"
      ],
      "metadata": {
        "id": "fxqDt2VJGerT"
      }
    },
    {
      "cell_type": "markdown",
      "source": [
        "####Решение:\n",
        "\n",
        "а) $\\begin{pmatrix}\n",
        "1 & 2 & 3\\\\ \n",
        "1 & 1 & 1\\\\ \n",
        "2 & 3 & 4\n",
        "\\end{pmatrix}$\n",
        "Третья строка является суммой первой и второй строк, а значит, ее можно отбросить:\n",
        "$\\begin{pmatrix}\n",
        "1 & 2 & 3\\\\ \n",
        "1 & 1 & 1\n",
        "\\end{pmatrix}$ \n",
        "Из первой строки вычитаем вторую и меняем строки местами:\n",
        "$\\begin{pmatrix}\n",
        "1 & 1 & 1\\\\ \n",
        "0 & 1 & 2\n",
        "\\end{pmatrix}$\n",
        "\n",
        "Проверим:\n",
        "\n"
      ],
      "metadata": {
        "id": "J7sB8sd_GoBn"
      }
    },
    {
      "cell_type": "code",
      "source": [
        "arr=([[1,2,3],[1,1,1],[2,3,4]])\n",
        "np.linalg.matrix_rank(arr)"
      ],
      "metadata": {
        "colab": {
          "base_uri": "https://localhost:8080/"
        },
        "id": "GLK1F-tvIQCu",
        "outputId": "0189b5ab-c5f0-4369-da67-f1d18e041ffb"
      },
      "execution_count": 11,
      "outputs": [
        {
          "output_type": "execute_result",
          "data": {
            "text/plain": [
              "2"
            ]
          },
          "metadata": {},
          "execution_count": 11
        }
      ]
    },
    {
      "cell_type": "markdown",
      "source": [
        "\n",
        "б) $\\begin{pmatrix}\n",
        "0 & 0 & 2 & 1\\\\ \n",
        "0 & 0 & 2 & 2\\\\ \n",
        "0 & 0 & 4 & 3\\\\ \n",
        "2 & 3 & 5 & 6\n",
        "\\end{pmatrix}$ \n",
        "Третья строка является суммой первой и второй строки, отбрасываем: \n",
        "$\\begin{pmatrix}\n",
        "0 & 0 & 2 & 1\\\\ \n",
        "0 & 0 & 2 & 2\\\\ \n",
        "2 & 3 & 5 & 6\n",
        "\\end{pmatrix}$ \n",
        "Вычитаем вторую строку из первой:\n",
        " $\\begin{pmatrix}\n",
        "0 & 0 & 0 & -1\\\\ \n",
        "0 & 0 & 2 & 2\\\\ \n",
        "2 & 3 & 5 & 6\n",
        "\\end{pmatrix}$\n",
        "Удалим второй столбец, который можно выразить через первый:\n",
        "$\\begin{pmatrix}\n",
        "0 & 0 & -1\\\\ \n",
        "0 & 2 & 2\\\\ \n",
        "2 & 5 & 6\n",
        "\\end{pmatrix}$\n",
        "Меняем местами первую и третью строки:\n",
        "$\\begin{pmatrix}\n",
        "2 & 5 & 6\\\\ \n",
        "0 & 2 & 2\\\\ \n",
        "0 & 0 & -1\n",
        "\\end{pmatrix}$\n",
        "Ранг матрицы равен $3$\n",
        "\n",
        "Проверяем:\n"
      ],
      "metadata": {
        "id": "oMYgvAqFIUZt"
      }
    },
    {
      "cell_type": "code",
      "source": [
        "arr=([[0,0,2,1],[0,0,2,2],[0,0,4,3],[2,3,5,6]])\n",
        "np.linalg.matrix_rank(arr)"
      ],
      "metadata": {
        "colab": {
          "base_uri": "https://localhost:8080/"
        },
        "id": "LsYXvlDqKOZ3",
        "outputId": "635ec02f-1c3c-4c4e-9324-9dee8f4b7c6a"
      },
      "execution_count": 12,
      "outputs": [
        {
          "output_type": "execute_result",
          "data": {
            "text/plain": [
              "3"
            ]
          },
          "metadata": {},
          "execution_count": 12
        }
      ]
    }
  ]
}