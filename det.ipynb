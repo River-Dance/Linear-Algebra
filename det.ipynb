{
  "cells": [
    {
      "cell_type": "markdown",
      "metadata": {
        "id": "view-in-github",
        "colab_type": "text"
      },
      "source": [
        "<a href=\"https://colab.research.google.com/github/River-Dance/Linear-Algebra/blob/main/det.ipynb\" target=\"_parent\"><img src=\"https://colab.research.google.com/assets/colab-badge.svg\" alt=\"Open In Colab\"/></a>"
      ]
    },
    {
      "cell_type": "code",
      "execution_count": null,
      "metadata": {
        "id": "CbjQ-DRTdlFP"
      },
      "outputs": [],
      "source": [
        "import numpy as np\n",
        "import time\n",
        "\n",
        "#Минор\n",
        "def submatrix(M, c):\n",
        "    B = [[1] * len(M) for i in range(len(M))]\n",
        "\n",
        "    for l in range(len(M)):\n",
        "        for k in range(len(M)):\n",
        "            B[l][k] = M[l][k]\n",
        "\n",
        "    B.pop(0)\n",
        "\n",
        "    for i in range(len(B)):\n",
        "        B[i].pop(c)\n",
        "    return B\n",
        "\n",
        "#Определитель методом Лапласа\n",
        "def det_L(M):\n",
        "    X = 0\n",
        "    if len(M) != len(M[0]):\n",
        "        print('Матрица не квадратная')\n",
        "    else:\n",
        "        if len(M) <= 2:\n",
        "            return M[0][0] * M[1][1] - M[0][1] * M[1][0]\n",
        "        else:\n",
        "            for i in range(len(M)):\n",
        "                X += ((-1)**i) * M[0][i] * det_L(submatrix(M, i))\n",
        "    return X"
      ]
    },
    {
      "cell_type": "code",
      "execution_count": null,
      "metadata": {
        "id": "4Xghtc6xdlFV",
        "outputId": "9aa742a3-c66d-4bbe-f133-b66c38208509"
      },
      "outputs": [
        {
          "name": "stdout",
          "output_type": "stream",
          "text": [
            "[[0.93141141 0.26648492 0.55226543 0.83208576 0.33179645 0.96197131\n",
            "  0.02416563 0.34862174 0.3333622 ]\n",
            " [0.88970206 0.49379235 0.96791532 0.13720823 0.92592653 0.99588995\n",
            "  0.52468954 0.25077471 0.55655424]\n",
            " [0.96255133 0.89798242 0.04276758 0.58515337 0.27904328 0.48859127\n",
            "  0.75025257 0.35167611 0.26202723]\n",
            " [0.44768881 0.7508611  0.08501268 0.45293481 0.11436428 0.1638165\n",
            "  0.83653748 0.72619152 0.17283006]\n",
            " [0.60687455 0.43004208 0.90082106 0.17757992 0.47261584 0.62450242\n",
            "  0.21960325 0.88230466 0.93144031]\n",
            " [0.82824898 0.73835706 0.88800905 0.45317763 0.70401266 0.89444923\n",
            "  0.42690309 0.65863953 0.00981238]\n",
            " [0.57667815 0.01284882 0.82218314 0.26661077 0.08963222 0.31102131\n",
            "  0.27298556 0.74986459 0.20777532]\n",
            " [0.33389467 0.72349262 0.48436236 0.68666243 0.4186448  0.0047462\n",
            "  0.79366571 0.77159385 0.82653513]\n",
            " [0.9347179  0.24529986 0.22230325 0.39496961 0.95383141 0.63238483\n",
            "  0.91916563 0.55846491 0.68542327]]\n"
          ]
        }
      ],
      "source": [
        "a = np.random.rand(9, 9)\n",
        "print (a)"
      ]
    },
    {
      "cell_type": "code",
      "execution_count": null,
      "metadata": {
        "id": "ExYLb-_-dlFX",
        "outputId": "d3102506-4737-4fd8-d09d-1c66ea2438e3"
      },
      "outputs": [
        {
          "name": "stdout",
          "output_type": "stream",
          "text": [
            "0.06015037834225799\n",
            "--- 0.003994464874267578 seconds ---\n"
          ]
        }
      ],
      "source": [
        "start_time = time.time()\n",
        "print (np.linalg.det(a))\n",
        "print(\"--- %s seconds ---\" % (time.time() - start_time))"
      ]
    },
    {
      "cell_type": "code",
      "execution_count": null,
      "metadata": {
        "id": "YzAniLAQdlFY",
        "outputId": "de3fec2c-a960-4d5c-f7ca-d10cf969992f"
      },
      "outputs": [
        {
          "name": "stdout",
          "output_type": "stream",
          "text": [
            "0.06015037834225799\n",
            "--- 10.20199728012085 seconds ---\n"
          ]
        }
      ],
      "source": [
        "start_time2 = time.time()\n",
        "print (det_L(a))\n",
        "print(\"--- %s seconds ---\" % (time.time() - start_time2))"
      ]
    },
    {
      "cell_type": "code",
      "execution_count": null,
      "metadata": {
        "id": "3LJT5uIYooxT"
      },
      "outputs": [],
      "source": [
        ""
      ]
    }
  ],
  "metadata": {
    "colab": {
      "name": "det.ipynb",
      "provenance": [],
      "include_colab_link": true
    },
    "kernelspec": {
      "display_name": "Python 3 (ipykernel)",
      "language": "python",
      "name": "python3"
    },
    "language_info": {
      "codemirror_mode": {
        "name": "ipython",
        "version": 3
      },
      "file_extension": ".py",
      "mimetype": "text/x-python",
      "name": "python",
      "nbconvert_exporter": "python",
      "pygments_lexer": "ipython3",
      "version": "3.8.13"
    }
  },
  "nbformat": 4,
  "nbformat_minor": 0
}