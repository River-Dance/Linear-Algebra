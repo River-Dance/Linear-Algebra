{
  "nbformat": 4,
  "nbformat_minor": 0,
  "metadata": {
    "colab": {
      "name": "linear_algebra_HW_1.ipynb",
      "provenance": [],
      "toc_visible": true,
      "collapsed_sections": [],
      "authorship_tag": "ABX9TyOzZ+RCSZkpM0jHysSwL5FO",
      "include_colab_link": true
    },
    "kernelspec": {
      "name": "python3",
      "display_name": "Python 3"
    },
    "language_info": {
      "name": "python"
    }
  },
  "cells": [
    {
      "cell_type": "markdown",
      "metadata": {
        "id": "view-in-github",
        "colab_type": "text"
      },
      "source": [
        "<a href=\"https://colab.research.google.com/github/River-Dance/Linear-Algebra/blob/main/linear_algebra_HW_1.ipynb\" target=\"_parent\"><img src=\"https://colab.research.google.com/assets/colab-badge.svg\" alt=\"Open In Colab\"/></a>"
      ]
    },
    {
      "cell_type": "markdown",
      "source": [
        "# Урок 1. Линейная алгебра"
      ],
      "metadata": {
        "id": "3x7h14DsxInf"
      }
    },
    {
      "cell_type": "markdown",
      "source": [
        "## Часть 1. Практическое задание"
      ],
      "metadata": {
        "id": "2NP9c0YDyL_b"
      }
    },
    {
      "cell_type": "markdown",
      "source": [
        "###Задание 1 -  Исследовать на линейную зависимость:\n",
        "$f_{1}(x)=e^{x}, f_{2}(x)=1, f_{3}(x)=x+1, f_{4}(x)=x-e^{x}.$"
      ],
      "metadata": {
        "id": "5wsMfnKwzDJg"
      }
    },
    {
      "cell_type": "markdown",
      "source": [
        "Решение: \n",
        "\n",
        "$f_{1}(x)=f_{3}(x) - f_{4}(x) - f_{2}(x) = (x+1) - (x-e^{x}) -1 = e^{x}$,   \n",
        "$f_{2}(x)=f_{3}(x) - f_{4}(x) + f_{1}(x) = (x+1) - (x-e^{x}) - e^{x} = 1$,\n",
        "$f_{3}(x)= x + f_{2}(x)= x + 1$,\n",
        "$f_{4}(x)=f_{3}(x) - f_{2}(x) - f_{1}(x) = (x+1) - 1 - e^{x} = x -e^{x}$\n",
        "\n",
        "Следовательно все векторы являются линейными комбинациями остальных векторов \n",
        "\n",
        "Вывод - вектора линейно зависимы"
      ],
      "metadata": {
        "id": "PTY-AixozWSv"
      }
    },
    {
      "cell_type": "markdown",
      "source": [
        "\n",
        "\n",
        "---\n",
        "\n"
      ],
      "metadata": {
        "id": "8F-QCRjSsSOv"
      }
    },
    {
      "cell_type": "markdown",
      "source": [
        "###Задание 2 - Исследовать на линейную зависимость:\n",
        " $f_{1}(x)=2, f_{2}(x)=x, f_{3}(x)=x^{2}, f_{4}(x)=(x+1)^{2}.$"
      ],
      "metadata": {
        "id": "Lq81FwWrr52A"
      }
    },
    {
      "cell_type": "markdown",
      "source": [
        "Решение:\n",
        "Аналогично предыдущей задаче.\n",
        "$f_{1}(x)=2(f_{4}(x)-f_{3}(x)- 2f_{2}(x))=2(x^2+2x+1-x^2-2x) = 2.$\n",
        "$f_{2}(x)=0.5(f_{4}(x)-f_{3}(x)- 2f_{1}(x))=0.5(x^2+2x+1-1) = x$,\n",
        "$f_{3}(x)=f_{4}(x)-2f_{2}(x)-0.5f_{1}(x))=0.5(x^2+2x+1-1) = x^2$,\n",
        "$f_{4}(x)=f_{3}(x)+2f_{2}(x)- 0.5f_{1}(x)=x^2+2x+0.5*2 = (x+1)^2$\n",
        "\n",
        "система векторов линейно зависима\n",
        "\n",
        "\n",
        "---\n",
        "\n"
      ],
      "metadata": {
        "id": "KS5luaqtsQ8G"
      }
    },
    {
      "cell_type": "markdown",
      "source": [
        "###Задание 3 - Найти координаты вектора \n",
        "$x = (2, 3, 5)\\in \\mathbb{R}^{3}$ в базисе $b_{1}=(0, 0, 10)$, $b_{2}=(2, 0, 0)$, $b_{3}=(0, 1, 0)$."
      ],
      "metadata": {
        "id": "9J_vQMHX5354"
      }
    },
    {
      "cell_type": "markdown",
      "source": [
        "Решение:\n",
        "\n",
        "$(2, 3, 5)=a_1(2,0,0)+a_2(0, 3, 0)+a_3(0, 0, 5)$\n",
        "\n",
        "Используя свойства векторов, получим следующее равенство:\n",
        "$(2, 3, 5)=(2a_1,0a_1,0a_1)+(0a_2, 3a_2, 0a_2)+(0a_3, 0a_3, 5a_3)$\n",
        "$(2, 3, 5)=(2a_1,0a_2,0a_3;0a_1, 3a_2, 0a_3;10a_1, 0a_2, 0a_3)$\n",
        "\n",
        "По свойству равенства векторов имеем:\n",
        "\n",
        "$2=(2a_1,0a_2,0a_3)$\n",
        "\n",
        "$3=(0a_1, 3a_2, 0a_3)$\n",
        "\n",
        "$5=(10a_1, 0a_2, 0a_3)$\n",
        "\n",
        "Решаем полученную систему уравнений методом Крамера.\n",
        "\n",
        "ОТВЕТ:$ X= (1/2,1,3)$\n",
        "\n",
        "\n",
        "---\n",
        "\n"
      ],
      "metadata": {
        "id": "ps-F2jgT5-Bz"
      }
    },
    {
      "cell_type": "markdown",
      "source": [
        "###Задание 4"
      ],
      "metadata": {
        "id": "sq8EvdQ71_RD"
      }
    },
    {
      "cell_type": "markdown",
      "source": [
        "Найти координаты вектора $3x^{2}-2x+2\\in\\mathbb{R}^{3}[x]$:\n",
        "\n",
        "   а) в базисе $1$, $x$, $x^{2}$;\n",
        "\n",
        "   б) в базисе $x^{2}$, $x-1$, $1$."
      ],
      "metadata": {
        "id": "QuX0lVTxWj8l"
      }
    },
    {
      "cell_type": "markdown",
      "source": [
        "РЕШЕНИЕ:\n",
        "\n",
        "а) Для базиса $1$, $x$, $x^{2}$; координаты $(2,-2,3)$\n",
        "\n",
        "б) Для базиса $x^{2}$, $x-1$, $1$, необходимо привести вектор к нужному виду $3x^2-2x+2=3x^2-2(x-1)+0⋅1$\n",
        "\n",
        "тогда координаты для базиса $x^{2}$, $x-1$, $1$, будут $(3,-2,0)$\n",
        "\n",
        "\n",
        "---\n",
        "\n"
      ],
      "metadata": {
        "id": "Kn-OggO8WrNU"
      }
    },
    {
      "cell_type": "markdown",
      "source": [
        "### Задание 5 \n",
        "\n",
        "Установить, является ли линейным подпространством:\n",
        "\n",
        "а) совокупность всех векторов трехмерного пространства, у которых по крайней мере одна из первых двух координат равна нулю;\n",
        "    \n",
        "б) все векторы, являющиеся линейными комбинациями данных векторов $\\{u_{1}, u_{2}, ..., u_{n}\\}$."
      ],
      "metadata": {
        "id": "OLY0ubgdhaZ3"
      }
    },
    {
      "cell_type": "markdown",
      "source": [
        "РЕШЕНИЕ:\n",
        "\n",
        "а) $L_1$ - подможнество всех векторов трехмерного пространства, у которых по крайней мере одна из первых двух координат равна нулю.\n",
        "\n",
        "$a\\ne0, b\\ne0, c\\ne0, d\\ne0$\n",
        "\n",
        "$(0,a,b)+(c,0,d)=(c,a,b+d)∉ L_1$ - соответственно $L_1$  не является подпространством.\n",
        "\n",
        "б) $L_2$  - все векторы, являющиеся линейными комбинациями данных векторов  $\\{u_{1}, u_{2}, ..., u_{n}\\}$.\n",
        "\n",
        "$u_1=(x_1,y_1,z_1)$\n",
        "\n",
        "$u_2=(x_2,y_2,z_2)$\n",
        "\n",
        "$u_1+u_2=(x_1+x_2,y_1+y_2,z_1+z_2)∈L_2$ так как новый вектор является линейной комбинацией всех векторов, где только коэффициенты $λ_1$ и $λ_2$ не равны нулю.\n",
        "\n",
        "$a⋅u_1∈L_2$, так как новый вектор является линейной комбинацией всех векторов, где только коэффициент $λ_1$ не равен нулю и равен $α$ .\n",
        "\n",
        "Соотвествтенно $L_2$ является подпространством.\n",
        "\n",
        "\n",
        "---\n",
        "\n"
      ],
      "metadata": {
        "id": "72P3B8fJhsbL"
      }
    },
    {
      "cell_type": "markdown",
      "source": [
        "## Часть 2. Практическое задание"
      ],
      "metadata": {
        "id": "OrgJIJI8r-tt"
      }
    },
    {
      "cell_type": "markdown",
      "source": [
        "### Задание 1\n",
        "\n",
        "Найти скалярное произведение векторов $x, y \\in \\mathbb{R}$:<br>\n",
        "а) $x=(0,-3, 6),~y=(-4, 7, 9);$<br>\n",
        "б) $x=(7, -4, 0, 1),~y=(-3, 1, 11, 2).$"
      ],
      "metadata": {
        "id": "zpuJWqOrsKEK"
      }
    },
    {
      "cell_type": "markdown",
      "source": [
        "РЕШЕНИЕ:"
      ],
      "metadata": {
        "id": "2BAyF5xhsj-d"
      }
    },
    {
      "cell_type": "code",
      "execution_count": null,
      "metadata": {
        "id": "hIf0ivlYxEve"
      },
      "outputs": [],
      "source": [
        "import numpy as np\n",
        "from numpy.linalg import norm"
      ]
    },
    {
      "cell_type": "code",
      "source": [
        "x = np.array([0,-3,6])\n",
        "y = np.array([-4,7,9])\n",
        "xy = np.dot(x,y)\n",
        "print(f'а) скалярное произведение x и y: {xy}')\n",
        "\n",
        "x = np.array([7,-4,0,1])\n",
        "y = np.array([-3,1,11,2])\n",
        "xy = np.dot(x,y)\n",
        "print(f'б) скалярное произведение x и y: {xy}')"
      ],
      "metadata": {
        "colab": {
          "base_uri": "https://localhost:8080/"
        },
        "id": "FvHfNoVstRkJ",
        "outputId": "3af35789-bb58-482e-fdbf-a9ac3170f6d7"
      },
      "execution_count": null,
      "outputs": [
        {
          "output_type": "stream",
          "name": "stdout",
          "text": [
            "а) скалярное произведение x и y: 33\n",
            "б) скалярное произведение x и y: -23\n"
          ]
        }
      ]
    },
    {
      "cell_type": "markdown",
      "source": [
        "### Задание 2. \n",
        "\n",
        "Найти нормы векторов $(4, 2, 4)$ и $(12, 3, 4)$ и угол между ними."
      ],
      "metadata": {
        "id": "oNBflaYLth0B"
      }
    },
    {
      "cell_type": "markdown",
      "source": [
        "РЕШЕНИЕ:"
      ],
      "metadata": {
        "id": "4zirVeKpt3ak"
      }
    },
    {
      "cell_type": "code",
      "source": [
        "x = np.array([4,2,4])\n",
        "y = np.array([12,3,4])\n",
        "\n",
        "norm_x = norm(x)\n",
        "norm_y = norm(y)\n",
        "\n",
        "print(f'Норма вектора x: {norm_x}')\n",
        "print(f'Норма вектора y: {norm_y}')\n",
        "\n",
        "x_y = np.degrees(np.arccos(np.dot(x,y)/(norm_x*norm_y)))\n",
        "print(f'Угол между векторами: {x_y} градусов')"
      ],
      "metadata": {
        "colab": {
          "base_uri": "https://localhost:8080/"
        },
        "id": "McqVteaUt6Jy",
        "outputId": "fcf60f61-627b-43d7-faec-a0189775776d"
      },
      "execution_count": null,
      "outputs": [
        {
          "output_type": "stream",
          "name": "stdout",
          "text": [
            "Норма вектора x: 6.0\n",
            "Норма вектора y: 13.0\n",
            "Угол между векторами: 26.176952171666542 градусов\n"
          ]
        }
      ]
    },
    {
      "cell_type": "markdown",
      "source": [
        "### Задание 3\n",
        "\n",
        "Будет ли линейное пространство евклидовым, если за скалярное произведение принять:<br>\n",
        "а) произведение длин векторов;<br>\n",
        "б) утроенное обычное скалярное произведение векторов?"
      ],
      "metadata": {
        "id": "7gycopdZvFZ1"
      }
    },
    {
      "cell_type": "markdown",
      "source": [
        "РЕШЕНИЕ:\n",
        "\n",
        "__Определение__\n",
        "\n",
        "Линейное пространство над полем вещественных чисел называется _евклидовым пространством_ , если на нем введено правило, согласно которому каждой упорядоченной паре векторов $x$ и $y$ поставлено в соответствие вещественное число, называемое _скалярным произведением_ и обозначаемое символом $(x, y)$.\n",
        "\n",
        "При этом указанное правило должно подчиняться четырем аксиомам:<br>\n",
        "1) $(x,y)=(y,x);$<br>\n",
        "2) $(\\lambda x, y)=\\lambda(x, y);$<br>\n",
        "3) $(x_{1}+x_{2},y)=(x_{1},y)+(x_{2},y);$<br>\n",
        "4) $(x, x)\\geq0$, причем $(x,x)=0\\Leftrightarrow x=0.$\n",
        "\n",
        "Ответ:\n",
        "\n",
        "а) - нет, потому что 3 аксиома не выполняется.\n",
        "\n",
        "б) - да, потому что все аксиомы верны.\n",
        "\n",
        "\n",
        "---\n",
        "\n"
      ],
      "metadata": {
        "id": "EGUF_3wgvzad"
      }
    },
    {
      "cell_type": "markdown",
      "source": [
        "### Задание 4\n",
        "\n",
        "Какие из нижеперечисленных векторов образуют ортонормированный базис в линейном пространстве $\\mathbb{R}^{3}$:<br>\n",
        "а) $(1,0,0),(0,0,1);$ <br>\n",
        "б) $(1/\\sqrt{2},-1/\\sqrt{2},0),(1/\\sqrt{2},1/\\sqrt{2},0), (0,0,1);$<br>\n",
        "в) $(1/2, -1/2, 0), (0, 1/2, 1/2), (0,0,1);$<br>\n",
        "г) $(1,0,0),(0,1,0),(0,0,1)?$ "
      ],
      "metadata": {
        "id": "pjh0dutgwgk_"
      }
    },
    {
      "cell_type": "markdown",
      "source": [
        "РЕШЕНИЕ:\n",
        "\n",
        "а) - нет, потому что нужен 3-ий вектор для базиса 3-х мерного пространства. Нельзя выразить через 2 вектора любой вектор 3-х мерного пространства.\n",
        "\n",
        "б) - да, потому что:"
      ],
      "metadata": {
        "id": "G94iW9ANwm1j"
      }
    },
    {
      "cell_type": "code",
      "source": [
        "a1 = np.array([1/np.sqrt(2), -1/np.sqrt(2), 0])  \n",
        "a2 = np.array([1/np.sqrt(2), 1/np.sqrt(2), 0])\n",
        "a3 = np.array([0, 0, 1])\n",
        "norm(a1), norm(a2), norm(a3)"
      ],
      "metadata": {
        "colab": {
          "base_uri": "https://localhost:8080/"
        },
        "id": "y4PLPgOzw6_-",
        "outputId": "f6f7bba4-8dd1-47bc-e84e-33bc4029547f"
      },
      "execution_count": null,
      "outputs": [
        {
          "output_type": "execute_result",
          "data": {
            "text/plain": [
              "(0.9999999999999999, 0.9999999999999999, 1.0)"
            ]
          },
          "metadata": {},
          "execution_count": 4
        }
      ]
    },
    {
      "cell_type": "code",
      "source": [
        "np.dot(a1, a2), np.dot(a1, a3), np.dot(a2, a3)"
      ],
      "metadata": {
        "colab": {
          "base_uri": "https://localhost:8080/"
        },
        "id": "Ogu6GdIgxC-t",
        "outputId": "6ac8a6cd-aac5-430c-f2e9-5f2aaa09f464"
      },
      "execution_count": null,
      "outputs": [
        {
          "output_type": "execute_result",
          "data": {
            "text/plain": [
              "(0.0, 0.0, 0.0)"
            ]
          },
          "metadata": {},
          "execution_count": 5
        }
      ]
    },
    {
      "cell_type": "markdown",
      "source": [
        "в) нет, потому что:"
      ],
      "metadata": {
        "id": "RuN84hiyw_Xo"
      }
    },
    {
      "cell_type": "code",
      "source": [
        "a1 = np.array([1/2, -1/2, 0])  \n",
        "a2 = np.array([0, 1/2, 1/2])\n",
        "a3 = np.array([0, 0, 1])\n",
        "norm(a1), norm(a2), norm(a3)"
      ],
      "metadata": {
        "colab": {
          "base_uri": "https://localhost:8080/"
        },
        "id": "9vPodm1exIQ2",
        "outputId": "3c62aff2-55ea-4d39-cb9b-ecf91ea92b5e"
      },
      "execution_count": null,
      "outputs": [
        {
          "output_type": "execute_result",
          "data": {
            "text/plain": [
              "(0.7071067811865476, 0.7071067811865476, 1.0)"
            ]
          },
          "metadata": {},
          "execution_count": 6
        }
      ]
    },
    {
      "cell_type": "code",
      "source": [
        "np.dot(a1, a2), np.dot(a1, a3), np.dot(a2, a3)"
      ],
      "metadata": {
        "colab": {
          "base_uri": "https://localhost:8080/"
        },
        "id": "_A_AkYPtxVmr",
        "outputId": "5862654d-5884-45f4-8089-ed9e117dddc6"
      },
      "execution_count": null,
      "outputs": [
        {
          "output_type": "execute_result",
          "data": {
            "text/plain": [
              "(-0.25, 0.0, 0.5)"
            ]
          },
          "metadata": {},
          "execution_count": 7
        }
      ]
    },
    {
      "cell_type": "markdown",
      "source": [
        "г) да, потому что:"
      ],
      "metadata": {
        "id": "hJghxjw7xXRi"
      }
    },
    {
      "cell_type": "code",
      "source": [
        "a1 = np.array([1, 0, 0])  \n",
        "a2 = np.array([0, 1, 0])\n",
        "a3 = np.array([0, 0, 1])\n",
        "norm(a1), norm(a2), norm(a3)"
      ],
      "metadata": {
        "colab": {
          "base_uri": "https://localhost:8080/"
        },
        "id": "ZtnC3IB6xaTE",
        "outputId": "efad407d-f702-4528-fedc-8a1ff2e1a42b"
      },
      "execution_count": null,
      "outputs": [
        {
          "output_type": "execute_result",
          "data": {
            "text/plain": [
              "(1.0, 1.0, 1.0)"
            ]
          },
          "metadata": {},
          "execution_count": 8
        }
      ]
    },
    {
      "cell_type": "code",
      "source": [
        "np.dot(a1, a2), np.dot(a1, a3), np.dot(a2, a3)"
      ],
      "metadata": {
        "colab": {
          "base_uri": "https://localhost:8080/"
        },
        "id": "4q8ydzyBxeKb",
        "outputId": "07eb39ab-c90b-4714-9695-69961eaa6410"
      },
      "execution_count": null,
      "outputs": [
        {
          "output_type": "execute_result",
          "data": {
            "text/plain": [
              "(0, 0, 0)"
            ]
          },
          "metadata": {},
          "execution_count": 9
        }
      ]
    }
  ]
}